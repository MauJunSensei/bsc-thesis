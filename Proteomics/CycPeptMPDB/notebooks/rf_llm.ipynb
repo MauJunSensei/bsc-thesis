{
 "cells": [
  {
   "cell_type": "code",
   "execution_count": 5,
   "id": "6eee3af4",
   "metadata": {},
   "outputs": [
    {
     "name": "stderr",
     "output_type": "stream",
     "text": [
      "Some weights of RobertaForSequenceClassification were not initialized from the model checkpoint at DeepChem/ChemBERTa-77M-MTR and are newly initialized: ['classifier.dense.bias', 'classifier.dense.weight', 'classifier.out_proj.bias', 'classifier.out_proj.weight']\n",
      "You should probably TRAIN this model on a down-stream task to be able to use it for predictions and inference.\n"
     ]
    }
   ],
   "source": [
    "# Load model directly\n",
    "from transformers import AutoTokenizer, RobertaForSequenceClassification\n",
    "\n",
    "tokenizer = AutoTokenizer.from_pretrained(\"DeepChem/ChemBERTa-77M-MTR\")\n",
    "model = RobertaForSequenceClassification.from_pretrained(\"DeepChem/ChemBERTa-77M-MTR\")"
   ]
  },
  {
   "cell_type": "code",
   "execution_count": 6,
   "id": "e418200a",
   "metadata": {},
   "outputs": [],
   "source": [
    "import pandas as pd\n",
    "\n",
    "path = \"../data/CycPeptMPDB_Peptide_All.csv\"\n",
    "data = pd.read_csv(path, low_memory=False)\n",
    "\n",
    "data = data.drop_duplicates(subset=['Structurally_Unique_ID'])\n",
    "data = data[data['Permeability'] != -10]\n",
    "\n",
    "target = data['Permeability']\n",
    "smiles = data['SMILES']"
   ]
  },
  {
   "cell_type": "code",
   "execution_count": 7,
   "id": "6bc55f51",
   "metadata": {},
   "outputs": [
    {
     "name": "stdout",
     "output_type": "stream",
     "text": [
      "Tokenization complete. Number of samples: 7718\n"
     ]
    }
   ],
   "source": [
    "def tokenize_smiles(smiles):\n",
    "    \"\"\"Tokenize SMILES strings using the ChemBERTa tokenizer.\"\"\"\n",
    "    return tokenizer(smiles, padding=True, truncation=True, return_tensors=\"pt\")\n",
    "\n",
    "features = tokenize_smiles(smiles.tolist())\n",
    "print(\"Tokenization complete. Number of samples:\", len(features['input_ids']))"
   ]
  },
  {
   "cell_type": "code",
   "execution_count": 8,
   "id": "88c9234c",
   "metadata": {},
   "outputs": [
    {
     "data": {
      "application/vnd.jupyter.widget-view+json": {
       "model_id": "9eb074f883c247b0a79297b6e48447ca",
       "version_major": 2,
       "version_minor": 0
      },
      "text/plain": [
       "Embedding batches:   0%|          | 0/121 [00:00<?, ?it/s]"
      ]
     },
     "metadata": {},
     "output_type": "display_data"
    },
    {
     "name": "stdout",
     "output_type": "stream",
     "text": [
      "Embeddings shape: torch.Size([7718, 384])\n"
     ]
    }
   ],
   "source": [
    "from tqdm.notebook import tqdm\n",
    "\n",
    "import torch\n",
    "\n",
    "def get_embeddings(features, batch_size=64):\n",
    "    model.eval()\n",
    "    all_embeddings = []\n",
    "    input_ids = features['input_ids']\n",
    "    attention_mask = features['attention_mask']\n",
    "    num_samples = input_ids.shape[0]\n",
    "    for i in tqdm(range(0, num_samples, batch_size), desc=\"Embedding batches\"):\n",
    "        batch_input_ids = input_ids[i:i+batch_size]\n",
    "        batch_attention_mask = attention_mask[i:i+batch_size]\n",
    "        with torch.no_grad():\n",
    "            outputs = model(\n",
    "                input_ids=batch_input_ids,\n",
    "                attention_mask=batch_attention_mask,\n",
    "                output_hidden_states=True\n",
    "            )\n",
    "            last_hidden = outputs.hidden_states[-1]  # (batch_size, seq_len, hidden_dim)\n",
    "            mask = batch_attention_mask.unsqueeze(-1).expand(last_hidden.size())\n",
    "            summed = (last_hidden * mask).sum(1)\n",
    "            counts = mask.sum(1)\n",
    "            embeddings = summed / counts\n",
    "            all_embeddings.append(embeddings)\n",
    "    return torch.cat(all_embeddings, dim=0)\n",
    "\n",
    "embeddings = get_embeddings(features)\n",
    "print(\"Embeddings shape:\", embeddings.shape)"
   ]
  },
  {
   "cell_type": "code",
   "execution_count": 9,
   "id": "310ee212",
   "metadata": {},
   "outputs": [],
   "source": [
    "from sklearn.model_selection import train_test_split\n",
    "from sklearn.preprocessing import StandardScaler\n",
    "from sklearn.pipeline import Pipeline\n",
    "from sklearn.ensemble import RandomForestRegressor\n",
    "import numpy as np\n",
    "\n",
    "# Convert embeddings tensor to numpy array for sklearn\n",
    "X = embeddings.cpu().numpy()\n",
    "y = target.values\n",
    "\n",
    "# Split data\n",
    "X_train, X_test, y_train, y_test = train_test_split(X, y, test_size=0.2, random_state=42)\n",
    "\n",
    "# Ensemble averaging: train several RFs on different seeds and average predictions\n",
    "n_ensemble = 10\n",
    "ensemble_preds = []\n",
    "\n",
    "for seed in range(n_ensemble):\n",
    "    ensemble_pipeline = Pipeline([\n",
    "        ('scaler', StandardScaler()),\n",
    "        ('regressor', RandomForestRegressor(random_state=seed, n_jobs=-1))\n",
    "    ])\n",
    "    ensemble_pipeline.fit(X_train, y_train)\n",
    "    preds = ensemble_pipeline.predict(X_test)\n",
    "    ensemble_preds.append(preds)\n",
    "\n",
    "# Average predictions\n",
    "y_pred = np.mean(ensemble_preds, axis=0)"
   ]
  },
  {
   "cell_type": "code",
   "execution_count": 11,
   "id": "b8e8ae95",
   "metadata": {},
   "outputs": [
    {
     "name": "stdout",
     "output_type": "stream",
     "text": [
      "Training set performance:\n",
      "RMSE: 0.3329\n",
      "MAE: 0.2392\n",
      "MAPE: 4.10%\n",
      "R2: 0.8193\n",
      "\n",
      "Test set performance:\n",
      "RMSE: 0.5353\n",
      "MAE: 0.3940\n",
      "MAPE: 6.77%\n",
      "R2: 0.5501\n"
     ]
    }
   ],
   "source": [
    "from sklearn.metrics import root_mean_squared_error, mean_absolute_error, r2_score\n",
    "\n",
    "# Compute ensemble predictions for training set\n",
    "ensemble_train_preds = []\n",
    "for seed in range(n_ensemble):\n",
    "\tensemble_pipeline = Pipeline([\n",
    "\t\t('scaler', StandardScaler()),\n",
    "\t\t('regressor', RandomForestRegressor(random_state=seed, n_jobs=-1))\n",
    "\t])\n",
    "\tensemble_pipeline.fit(X_train, y_train)\n",
    "\tpreds = ensemble_pipeline.predict(X_train)\n",
    "\tensemble_train_preds.append(preds)\n",
    "y_train_pred = np.mean(ensemble_train_preds, axis=0)\n",
    "\n",
    "# Calculate metrics for training set\n",
    "train_rmse = root_mean_squared_error(y_train, y_train_pred)\n",
    "train_mae = mean_absolute_error(y_train, y_train_pred)\n",
    "train_mape = (np.abs((y_train - y_train_pred) / y_train).mean()) * 100\n",
    "train_r2 = r2_score(y_train, y_train_pred)\n",
    "\n",
    "# Calculate metrics for test set\n",
    "rmse = root_mean_squared_error(y_test, y_pred)\n",
    "mae = mean_absolute_error(y_test, y_pred)\n",
    "mape = (np.abs((y_test - y_pred) / y_test).mean()) * 100\n",
    "r2 = r2_score(y_test, y_pred)\n",
    "\n",
    "print(\"Training set performance:\")\n",
    "print(f\"RMSE: {train_rmse:.4f}\")\n",
    "print(f\"MAE: {train_mae:.4f}\")\n",
    "print(f\"MAPE: {train_mape:.2f}%\")\n",
    "print(f\"R2: {train_r2:.4f}\")\n",
    "\n",
    "print(\"\\nTest set performance:\")\n",
    "print(f\"RMSE: {rmse:.4f}\")\n",
    "print(f\"MAE: {mae:.4f}\")\n",
    "print(f\"MAPE: {mape:.2f}%\")\n",
    "print(f\"R2: {r2:.4f}\")"
   ]
  }
 ],
 "metadata": {
  "kernelspec": {
   "display_name": "Python 3",
   "language": "python",
   "name": "python3"
  },
  "language_info": {
   "codemirror_mode": {
    "name": "ipython",
    "version": 3
   },
   "file_extension": ".py",
   "mimetype": "text/x-python",
   "name": "python",
   "nbconvert_exporter": "python",
   "pygments_lexer": "ipython3",
   "version": "3.11.11"
  }
 },
 "nbformat": 4,
 "nbformat_minor": 5
}
