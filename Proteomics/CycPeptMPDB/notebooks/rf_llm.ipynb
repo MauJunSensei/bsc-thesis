{
 "cells": [
  {
   "cell_type": "code",
   "execution_count": 1,
   "id": "6eee3af4",
   "metadata": {},
   "outputs": [
    {
     "name": "stderr",
     "output_type": "stream",
     "text": [
      "Some weights of RobertaForSequenceClassification were not initialized from the model checkpoint at DeepChem/ChemBERTa-77M-MTR and are newly initialized: ['classifier.dense.bias', 'classifier.dense.weight', 'classifier.out_proj.bias', 'classifier.out_proj.weight']\n",
      "You should probably TRAIN this model on a down-stream task to be able to use it for predictions and inference.\n"
     ]
    }
   ],
   "source": [
    "# Load model directly\n",
    "from transformers import AutoTokenizer, RobertaForSequenceClassification\n",
    "\n",
    "tokenizer = AutoTokenizer.from_pretrained(\"DeepChem/ChemBERTa-77M-MTR\")\n",
    "model = RobertaForSequenceClassification.from_pretrained(\"DeepChem/ChemBERTa-77M-MTR\")"
   ]
  },
  {
   "cell_type": "code",
   "execution_count": 2,
   "id": "e418200a",
   "metadata": {},
   "outputs": [],
   "source": [
    "import pandas as pd\n",
    "\n",
    "path = \"../data/CycPeptMPDB_Peptide_All.csv\"\n",
    "data = pd.read_csv(path, low_memory=False)\n",
    "\n",
    "data = data.drop_duplicates(subset=['Structurally_Unique_ID'])\n",
    "data = data[data['Permeability'] != -10]\n",
    "\n",
    "target = data['Permeability']\n",
    "smiles = data['SMILES']"
   ]
  },
  {
   "cell_type": "code",
   "execution_count": 3,
   "id": "6bc55f51",
   "metadata": {},
   "outputs": [
    {
     "name": "stdout",
     "output_type": "stream",
     "text": [
      "Tokenization complete. Number of samples: 7718\n"
     ]
    }
   ],
   "source": [
    "def tokenize_smiles(smiles):\n",
    "    \"\"\"Tokenize SMILES strings using the ChemBERTa tokenizer.\"\"\"\n",
    "    return tokenizer(smiles, padding=True, truncation=True, return_tensors=\"pt\")\n",
    "\n",
    "features = tokenize_smiles(smiles.tolist())\n",
    "print(\"Tokenization complete. Number of samples:\", len(features['input_ids']))"
   ]
  },
  {
   "cell_type": "code",
   "execution_count": 4,
   "id": "88c9234c",
   "metadata": {},
   "outputs": [
    {
     "data": {
      "application/vnd.jupyter.widget-view+json": {
       "model_id": "0165b4df15a44ccaa9945cf3a17e3e26",
       "version_major": 2,
       "version_minor": 0
      },
      "text/plain": [
       "Embedding batches:   0%|          | 0/121 [00:00<?, ?it/s]"
      ]
     },
     "metadata": {},
     "output_type": "display_data"
    },
    {
     "name": "stdout",
     "output_type": "stream",
     "text": [
      "Embeddings shape: torch.Size([7718, 384])\n"
     ]
    }
   ],
   "source": [
    "from tqdm.notebook import tqdm\n",
    "\n",
    "import torch\n",
    "\n",
    "def get_embeddings(features, batch_size=64):\n",
    "    model.eval()\n",
    "    all_embeddings = []\n",
    "    input_ids = features['input_ids']\n",
    "    attention_mask = features['attention_mask']\n",
    "    num_samples = input_ids.shape[0]\n",
    "    for i in tqdm(range(0, num_samples, batch_size), desc=\"Embedding batches\"):\n",
    "        batch_input_ids = input_ids[i:i+batch_size]\n",
    "        batch_attention_mask = attention_mask[i:i+batch_size]\n",
    "        with torch.no_grad():\n",
    "            outputs = model(\n",
    "                input_ids=batch_input_ids,\n",
    "                attention_mask=batch_attention_mask,\n",
    "                output_hidden_states=True\n",
    "            )\n",
    "            last_hidden = outputs.hidden_states[-1]  # (batch_size, seq_len, hidden_dim)\n",
    "            mask = batch_attention_mask.unsqueeze(-1).expand(last_hidden.size())\n",
    "            summed = (last_hidden * mask).sum(1)\n",
    "            counts = mask.sum(1)\n",
    "            embeddings = summed / counts\n",
    "            all_embeddings.append(embeddings)\n",
    "    return torch.cat(all_embeddings, dim=0)\n",
    "\n",
    "embeddings = get_embeddings(features)\n",
    "print(\"Embeddings shape:\", embeddings.shape)"
   ]
  },
  {
   "cell_type": "code",
   "execution_count": 6,
   "id": "310ee212",
   "metadata": {},
   "outputs": [
    {
     "name": "stdout",
     "output_type": "stream",
     "text": [
      "RMSE: 0.5352\n",
      "MAE: 0.3946\n",
      "MAPE: 6.79%\n",
      "R2: 0.5502\n"
     ]
    }
   ],
   "source": [
    "from sklearn.ensemble import RandomForestRegressor\n",
    "from sklearn.model_selection import train_test_split\n",
    "from sklearn.pipeline import Pipeline\n",
    "from sklearn.preprocessing import StandardScaler\n",
    "from sklearn.metrics import mean_squared_error, mean_absolute_error, r2_score\n",
    "from sklearn.metrics import root_mean_squared_error\n",
    "\n",
    "# Convert embeddings tensor to numpy array\n",
    "X = embeddings.cpu().numpy()\n",
    "y = target.values\n",
    "\n",
    "# Split data\n",
    "X_train, X_test, y_train, y_test = train_test_split(X, y, test_size=0.2, random_state=42)\n",
    "\n",
    "# Create pipeline\n",
    "rf_pipeline = Pipeline([\n",
    "    ('scaler', StandardScaler()),\n",
    "    ('rf', RandomForestRegressor(n_estimators=100, random_state=42))\n",
    "])\n",
    "\n",
    "# Train pipeline\n",
    "rf_pipeline.fit(X_train, y_train)\n",
    "\n",
    "y_pred = rf_pipeline.predict(X_test)\n",
    "\n",
    "rmse = root_mean_squared_error(y_test, y_pred)\n",
    "mae = mean_absolute_error(y_test, y_pred)\n",
    "mape = (abs((y_test - y_pred) / y_test)).mean() * 100\n",
    "r2 = r2_score(y_test, y_pred)\n",
    "\n",
    "print(f\"RMSE: {rmse:.4f}\")\n",
    "print(f\"MAE: {mae:.4f}\")\n",
    "print(f\"MAPE: {mape:.2f}%\")\n",
    "print(f\"R2: {r2:.4f}\")"
   ]
  },
  {
   "cell_type": "code",
   "execution_count": null,
   "id": "8d907ec8",
   "metadata": {},
   "outputs": [
    {
     "name": "stdout",
     "output_type": "stream",
     "text": [
      "Fitting 3 folds for each of 24 candidates, totalling 72 fits\n",
      "[CV] END rf__max_depth=None, rf__min_samples_leaf=2, rf__min_samples_split=2, rf__n_estimators=100; total time= 1.3min\n",
      "[CV] END rf__max_depth=None, rf__min_samples_leaf=2, rf__min_samples_split=5, rf__n_estimators=100; total time= 1.3min\n",
      "[CV] END rf__max_depth=None, rf__min_samples_leaf=1, rf__min_samples_split=5, rf__n_estimators=100; total time= 1.3min\n",
      "[CV] END rf__max_depth=None, rf__min_samples_leaf=2, rf__min_samples_split=5, rf__n_estimators=100; total time= 1.3min\n",
      "[CV] END rf__max_depth=None, rf__min_samples_leaf=2, rf__min_samples_split=2, rf__n_estimators=100; total time= 1.3min\n",
      "[CV] END rf__max_depth=None, rf__min_samples_leaf=1, rf__min_samples_split=2, rf__n_estimators=100; total time= 1.4min\n",
      "[CV] END rf__max_depth=None, rf__min_samples_leaf=2, rf__min_samples_split=2, rf__n_estimators=100; total time= 1.4min\n",
      "[CV] END rf__max_depth=None, rf__min_samples_leaf=1, rf__min_samples_split=5, rf__n_estimators=100; total time= 1.4min\n",
      "[CV] END rf__max_depth=None, rf__min_samples_leaf=1, rf__min_samples_split=5, rf__n_estimators=100; total time= 1.4min\n",
      "[CV] END rf__max_depth=None, rf__min_samples_leaf=1, rf__min_samples_split=2, rf__n_estimators=100; total time= 1.4min\n",
      "[CV] END rf__max_depth=None, rf__min_samples_leaf=1, rf__min_samples_split=2, rf__n_estimators=100; total time= 1.5min\n",
      "[CV] END rf__max_depth=10, rf__min_samples_leaf=1, rf__min_samples_split=2, rf__n_estimators=100; total time=  59.6s\n",
      "[CV] END rf__max_depth=10, rf__min_samples_leaf=1, rf__min_samples_split=2, rf__n_estimators=100; total time=  58.3s\n",
      "[CV] END rf__max_depth=10, rf__min_samples_leaf=1, rf__min_samples_split=2, rf__n_estimators=100; total time=  59.6s\n",
      "[CV] END rf__max_depth=10, rf__min_samples_leaf=1, rf__min_samples_split=5, rf__n_estimators=100; total time=  58.2s\n",
      "[CV] END rf__max_depth=None, rf__min_samples_leaf=2, rf__min_samples_split=2, rf__n_estimators=200; total time= 2.5min\n",
      "[CV] END rf__max_depth=None, rf__min_samples_leaf=1, rf__min_samples_split=5, rf__n_estimators=200; total time= 2.6min\n",
      "[CV] END rf__max_depth=None, rf__min_samples_leaf=2, rf__min_samples_split=5, rf__n_estimators=100; total time= 1.4min\n",
      "[CV] END rf__max_depth=None, rf__min_samples_leaf=1, rf__min_samples_split=2, rf__n_estimators=200; total time= 2.7min\n",
      "[CV] END rf__max_depth=None, rf__min_samples_leaf=2, rf__min_samples_split=2, rf__n_estimators=200; total time= 2.7min\n",
      "[CV] END rf__max_depth=None, rf__min_samples_leaf=2, rf__min_samples_split=2, rf__n_estimators=200; total time= 2.7min\n",
      "[CV] END rf__max_depth=None, rf__min_samples_leaf=1, rf__min_samples_split=5, rf__n_estimators=200; total time= 2.8min\n",
      "[CV] END rf__max_depth=None, rf__min_samples_leaf=1, rf__min_samples_split=5, rf__n_estimators=200; total time= 2.8min\n",
      "[CV] END rf__max_depth=None, rf__min_samples_leaf=1, rf__min_samples_split=2, rf__n_estimators=200; total time= 2.9min\n",
      "[CV] END rf__max_depth=None, rf__min_samples_leaf=1, rf__min_samples_split=2, rf__n_estimators=200; total time= 2.9min\n",
      "[CV] END rf__max_depth=10, rf__min_samples_leaf=1, rf__min_samples_split=5, rf__n_estimators=100; total time=  58.0s\n",
      "[CV] END rf__max_depth=10, rf__min_samples_leaf=1, rf__min_samples_split=5, rf__n_estimators=100; total time=  59.1s\n",
      "[CV] END rf__max_depth=10, rf__min_samples_leaf=1, rf__min_samples_split=2, rf__n_estimators=200; total time= 2.0min\n",
      "[CV] END rf__max_depth=10, rf__min_samples_leaf=1, rf__min_samples_split=2, rf__n_estimators=200; total time= 2.0min\n",
      "[CV] END rf__max_depth=10, rf__min_samples_leaf=1, rf__min_samples_split=2, rf__n_estimators=200; total time= 2.0min\n",
      "[CV] END rf__max_depth=10, rf__min_samples_leaf=2, rf__min_samples_split=2, rf__n_estimators=100; total time=  59.0s\n",
      "[CV] END rf__max_depth=10, rf__min_samples_leaf=2, rf__min_samples_split=2, rf__n_estimators=100; total time=  57.5s\n",
      "[CV] END rf__max_depth=10, rf__min_samples_leaf=2, rf__min_samples_split=2, rf__n_estimators=100; total time=  59.0s\n",
      "[CV] END rf__max_depth=10, rf__min_samples_leaf=2, rf__min_samples_split=5, rf__n_estimators=100; total time=  57.5s\n",
      "[CV] END rf__max_depth=None, rf__min_samples_leaf=2, rf__min_samples_split=5, rf__n_estimators=200; total time= 2.5min\n",
      "[CV] END rf__max_depth=10, rf__min_samples_leaf=2, rf__min_samples_split=5, rf__n_estimators=100; total time=  57.0s\n",
      "[CV] END rf__max_depth=10, rf__min_samples_leaf=2, rf__min_samples_split=5, rf__n_estimators=100; total time=  58.9s\n",
      "[CV] END rf__max_depth=None, rf__min_samples_leaf=2, rf__min_samples_split=5, rf__n_estimators=200; total time= 2.7min\n",
      "[CV] END rf__max_depth=None, rf__min_samples_leaf=2, rf__min_samples_split=5, rf__n_estimators=200; total time= 2.7min\n",
      "[CV] END rf__max_depth=10, rf__min_samples_leaf=1, rf__min_samples_split=5, rf__n_estimators=200; total time= 2.0min\n",
      "[CV] END rf__max_depth=10, rf__min_samples_leaf=1, rf__min_samples_split=5, rf__n_estimators=200; total time= 1.9min\n",
      "[CV] END rf__max_depth=10, rf__min_samples_leaf=1, rf__min_samples_split=5, rf__n_estimators=200; total time= 2.0min\n",
      "[CV] END rf__max_depth=10, rf__min_samples_leaf=2, rf__min_samples_split=2, rf__n_estimators=200; total time= 1.9min\n",
      "[CV] END rf__max_depth=10, rf__min_samples_leaf=2, rf__min_samples_split=2, rf__n_estimators=200; total time= 1.9min\n",
      "[CV] END rf__max_depth=10, rf__min_samples_leaf=2, rf__min_samples_split=2, rf__n_estimators=200; total time= 1.9min\n",
      "[CV] END rf__max_depth=20, rf__min_samples_leaf=1, rf__min_samples_split=2, rf__n_estimators=100; total time= 1.3min\n",
      "[CV] END rf__max_depth=20, rf__min_samples_leaf=1, rf__min_samples_split=2, rf__n_estimators=100; total time= 1.4min\n",
      "[CV] END rf__max_depth=20, rf__min_samples_leaf=1, rf__min_samples_split=2, rf__n_estimators=100; total time= 1.4min\n",
      "[CV] END rf__max_depth=20, rf__min_samples_leaf=1, rf__min_samples_split=5, rf__n_estimators=100; total time= 1.3min\n",
      "[CV] END rf__max_depth=20, rf__min_samples_leaf=1, rf__min_samples_split=5, rf__n_estimators=100; total time= 1.3min\n",
      "[CV] END rf__max_depth=10, rf__min_samples_leaf=2, rf__min_samples_split=5, rf__n_estimators=200; total time= 1.9min\n",
      "[CV] END rf__max_depth=10, rf__min_samples_leaf=2, rf__min_samples_split=5, rf__n_estimators=200; total time= 2.0min\n",
      "[CV] END rf__max_depth=20, rf__min_samples_leaf=1, rf__min_samples_split=5, rf__n_estimators=100; total time= 1.4min\n",
      "[CV] END rf__max_depth=10, rf__min_samples_leaf=2, rf__min_samples_split=5, rf__n_estimators=200; total time= 2.0min\n",
      "[CV] END rf__max_depth=20, rf__min_samples_leaf=2, rf__min_samples_split=2, rf__n_estimators=100; total time= 1.3min\n",
      "[CV] END rf__max_depth=20, rf__min_samples_leaf=2, rf__min_samples_split=2, rf__n_estimators=100; total time= 1.2min\n",
      "[CV] END rf__max_depth=20, rf__min_samples_leaf=2, rf__min_samples_split=2, rf__n_estimators=100; total time= 1.3min\n",
      "[CV] END rf__max_depth=20, rf__min_samples_leaf=2, rf__min_samples_split=5, rf__n_estimators=100; total time= 1.3min\n",
      "[CV] END rf__max_depth=20, rf__min_samples_leaf=2, rf__min_samples_split=5, rf__n_estimators=100; total time= 1.1min\n",
      "[CV] END rf__max_depth=20, rf__min_samples_leaf=1, rf__min_samples_split=2, rf__n_estimators=200; total time= 2.6min\n",
      "[CV] END rf__max_depth=20, rf__min_samples_leaf=1, rf__min_samples_split=2, rf__n_estimators=200; total time= 2.6min\n",
      "[CV] END rf__max_depth=20, rf__min_samples_leaf=2, rf__min_samples_split=5, rf__n_estimators=100; total time= 1.2min\n",
      "[CV] END rf__max_depth=20, rf__min_samples_leaf=1, rf__min_samples_split=5, rf__n_estimators=200; total time= 2.5min\n",
      "[CV] END rf__max_depth=20, rf__min_samples_leaf=1, rf__min_samples_split=5, rf__n_estimators=200; total time= 2.4min\n",
      "[CV] END rf__max_depth=20, rf__min_samples_leaf=1, rf__min_samples_split=2, rf__n_estimators=200; total time= 2.7min\n",
      "[CV] END rf__max_depth=20, rf__min_samples_leaf=1, rf__min_samples_split=5, rf__n_estimators=200; total time= 2.4min\n",
      "[CV] END rf__max_depth=20, rf__min_samples_leaf=2, rf__min_samples_split=2, rf__n_estimators=200; total time= 2.1min\n",
      "[CV] END rf__max_depth=20, rf__min_samples_leaf=2, rf__min_samples_split=2, rf__n_estimators=200; total time= 2.3min\n",
      "[CV] END rf__max_depth=20, rf__min_samples_leaf=2, rf__min_samples_split=2, rf__n_estimators=200; total time= 2.4min\n",
      "[CV] END rf__max_depth=20, rf__min_samples_leaf=2, rf__min_samples_split=5, rf__n_estimators=200; total time= 2.0min\n",
      "[CV] END rf__max_depth=20, rf__min_samples_leaf=2, rf__min_samples_split=5, rf__n_estimators=200; total time= 2.1min\n",
      "[CV] END rf__max_depth=20, rf__min_samples_leaf=2, rf__min_samples_split=5, rf__n_estimators=200; total time= 2.2min\n"
     ]
    }
   ],
   "source": [
    "from sklearn.model_selection import GridSearchCV\n",
    "\n",
    "import os\n",
    "os.environ[\"TOKENIZERS_PARALLELISM\"] = \"false\"\n",
    "\n",
    "# Define parameter grid for RandomForestRegressor\n",
    "param_grid = {\n",
    "    'rf__n_estimators': [100, 200],\n",
    "    'rf__max_depth': [None, 10, 20],\n",
    "    'rf__min_samples_split': [2, 5],\n",
    "    'rf__min_samples_leaf': [1, 2]\n",
    "}\n",
    "\n",
    "# Use the same pipeline as before\n",
    "grid_search = GridSearchCV(rf_pipeline, param_grid, cv=3, scoring='neg_root_mean_squared_error', n_jobs=-1, verbose=2)\n",
    "grid_search.fit(X_train, y_train)\n",
    "\n",
    "print(\"Best parameters:\", grid_search.best_params_)\n",
    "print(\"Best RMSE (CV):\", -grid_search.best_score_)\n",
    "\n",
    "# Optionally, update rf_pipeline with best parameters\n",
    "rf_pipeline.set_params(**grid_search.best_params_)\n",
    "rf_pipeline.fit(X_train, y_train)"
   ]
  },
  {
   "cell_type": "code",
   "execution_count": null,
   "id": "63dcd0fa",
   "metadata": {},
   "outputs": [
    {
     "name": "stdout",
     "output_type": "stream",
     "text": [
      "MAE: 0.2922\n",
      "MAPE: 5.00%\n",
      "RMSE: 0.3994\n",
      "R2: 0.7419\n"
     ]
    }
   ],
   "source": []
  }
 ],
 "metadata": {
  "kernelspec": {
   "display_name": "Python 3",
   "language": "python",
   "name": "python3"
  },
  "language_info": {
   "codemirror_mode": {
    "name": "ipython",
    "version": 3
   },
   "file_extension": ".py",
   "mimetype": "text/x-python",
   "name": "python",
   "nbconvert_exporter": "python",
   "pygments_lexer": "ipython3",
   "version": "3.11.11"
  }
 },
 "nbformat": 4,
 "nbformat_minor": 5
}
