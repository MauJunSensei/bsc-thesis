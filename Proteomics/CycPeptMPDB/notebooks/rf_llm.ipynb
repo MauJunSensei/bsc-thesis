{
 "cells": [
  {
   "cell_type": "code",
   "execution_count": 1,
   "id": "6eee3af4",
   "metadata": {},
   "outputs": [
    {
     "name": "stderr",
     "output_type": "stream",
     "text": [
      "Some weights of RobertaForSequenceClassification were not initialized from the model checkpoint at DeepChem/ChemBERTa-77M-MTR and are newly initialized: ['classifier.dense.bias', 'classifier.dense.weight', 'classifier.out_proj.bias', 'classifier.out_proj.weight']\n",
      "You should probably TRAIN this model on a down-stream task to be able to use it for predictions and inference.\n"
     ]
    }
   ],
   "source": [
    "# Load model directly\n",
    "from transformers import AutoTokenizer, RobertaForSequenceClassification\n",
    "\n",
    "tokenizer = AutoTokenizer.from_pretrained(\"DeepChem/ChemBERTa-77M-MTR\")\n",
    "model = RobertaForSequenceClassification.from_pretrained(\"DeepChem/ChemBERTa-77M-MTR\")"
   ]
  },
  {
   "cell_type": "code",
   "execution_count": 2,
   "id": "e418200a",
   "metadata": {},
   "outputs": [],
   "source": [
    "import pandas as pd\n",
    "\n",
    "path = \"../data/CycPeptMPDB_Peptide_All.csv\"\n",
    "data = pd.read_csv(path, low_memory=False)\n",
    "\n",
    "data = data.drop_duplicates(subset=['Structurally_Unique_ID'])\n",
    "data = data[data['Permeability'] != -10]\n",
    "\n",
    "target = data['Permeability']\n",
    "smiles = data['SMILES']"
   ]
  },
  {
   "cell_type": "code",
   "execution_count": 3,
   "id": "6bc55f51",
   "metadata": {},
   "outputs": [
    {
     "name": "stdout",
     "output_type": "stream",
     "text": [
      "Tokenization complete. Number of samples: 7718\n"
     ]
    }
   ],
   "source": [
    "def tokenize_smiles(smiles):\n",
    "    \"\"\"Tokenize SMILES strings using the ChemBERTa tokenizer.\"\"\"\n",
    "    return tokenizer(smiles, padding=True, truncation=True, return_tensors=\"pt\")\n",
    "\n",
    "features = tokenize_smiles(smiles.tolist())\n",
    "print(\"Tokenization complete. Number of samples:\", len(features['input_ids']))"
   ]
  },
  {
   "cell_type": "code",
   "execution_count": 4,
   "id": "88c9234c",
   "metadata": {},
   "outputs": [
    {
     "data": {
      "application/vnd.jupyter.widget-view+json": {
       "model_id": "3959edeb37634893a8971378aadec203",
       "version_major": 2,
       "version_minor": 0
      },
      "text/plain": [
       "Embedding batches:   0%|          | 0/121 [00:00<?, ?it/s]"
      ]
     },
     "metadata": {},
     "output_type": "display_data"
    },
    {
     "name": "stdout",
     "output_type": "stream",
     "text": [
      "Embeddings shape: torch.Size([7718, 384])\n"
     ]
    }
   ],
   "source": [
    "from tqdm.notebook import tqdm\n",
    "\n",
    "import torch\n",
    "\n",
    "def get_embeddings(features, batch_size=64):\n",
    "    model.eval()\n",
    "    all_embeddings = []\n",
    "    input_ids = features['input_ids']\n",
    "    attention_mask = features['attention_mask']\n",
    "    num_samples = input_ids.shape[0]\n",
    "    for i in tqdm(range(0, num_samples, batch_size), desc=\"Embedding batches\"):\n",
    "        batch_input_ids = input_ids[i:i+batch_size]\n",
    "        batch_attention_mask = attention_mask[i:i+batch_size]\n",
    "        with torch.no_grad():\n",
    "            outputs = model(\n",
    "                input_ids=batch_input_ids,\n",
    "                attention_mask=batch_attention_mask,\n",
    "                output_hidden_states=True\n",
    "            )\n",
    "            last_hidden = outputs.hidden_states[-1]  # (batch_size, seq_len, hidden_dim)\n",
    "            mask = batch_attention_mask.unsqueeze(-1).expand(last_hidden.size())\n",
    "            summed = (last_hidden * mask).sum(1)\n",
    "            counts = mask.sum(1)\n",
    "            embeddings = summed / counts\n",
    "            all_embeddings.append(embeddings)\n",
    "    return torch.cat(all_embeddings, dim=0)\n",
    "\n",
    "embeddings = get_embeddings(features)\n",
    "print(\"Embeddings shape:\", embeddings.shape)"
   ]
  },
  {
   "cell_type": "markdown",
   "id": "8b295bd4",
   "metadata": {},
   "source": [
    "# Train the Model"
   ]
  },
  {
   "cell_type": "code",
   "execution_count": 5,
   "id": "310ee212",
   "metadata": {},
   "outputs": [],
   "source": [
    "from sklearn.model_selection import train_test_split\n",
    "from sklearn.preprocessing import StandardScaler\n",
    "from sklearn.feature_selection import SelectFromModel\n",
    "from sklearn.impute import SimpleImputer\n",
    "from sklearn.decomposition import PCA\n",
    "from sklearn.pipeline import Pipeline\n",
    "from sklearn.ensemble import RandomForestRegressor\n",
    "import numpy as np\n",
    "\n",
    "# Define pipeline\n",
    "pipeline = Pipeline([\n",
    "    ('scaler', StandardScaler()),\n",
    "    ('regressor', RandomForestRegressor(n_jobs=-1))\n",
    "])\n",
    "\n",
    "# Split data\n",
    "X_train, X_test, y_train, y_test = train_test_split(embeddings, target, test_size=0.2, random_state=42)\n",
    "\n",
    "# Fit pipeline\n",
    "pipeline.fit(X_train, y_train)\n",
    "\n",
    "# Ensemble averaging: train several RFs on different seeds and average predictions\n",
    "n_ensemble = 10\n",
    "ensemble_preds = []\n",
    "\n",
    "for seed in range(n_ensemble):\n",
    "    ensemble_pipeline = Pipeline([\n",
    "        ('scaler', StandardScaler()),\n",
    "        ('regressor', RandomForestRegressor(random_state=seed, n_jobs=-1))\n",
    "    ])\n",
    "    ensemble_pipeline.fit(X_train, y_train)\n",
    "    preds = ensemble_pipeline.predict(X_test)\n",
    "    ensemble_preds.append(preds)\n",
    "\n",
    "# Average predictions\n",
    "y_pred = np.mean(ensemble_preds, axis=0)"
   ]
  },
  {
   "cell_type": "code",
   "execution_count": 6,
   "id": "b8e8ae95",
   "metadata": {},
   "outputs": [
    {
     "name": "stdout",
     "output_type": "stream",
     "text": [
      "Training set performance:\n",
      "RMSE: 0.3348\n",
      "MAE: 0.2405\n",
      "MAPE: 4.12%\n",
      "R2: 0.8173\n",
      "\n",
      "Test set performance:\n",
      "RMSE: 0.5372\n",
      "MAE: 0.3948\n",
      "MAPE: 6.79%\n",
      "R2: 0.5470\n"
     ]
    }
   ],
   "source": [
    "from sklearn.metrics import root_mean_squared_error, mean_absolute_error, r2_score\n",
    "\n",
    "# Predict on training set\n",
    "y_train_pred = pipeline.predict(X_train)\n",
    "\n",
    "# Calculate metrics for training set\n",
    "train_rmse = root_mean_squared_error(y_train, y_train_pred)\n",
    "train_mae = mean_absolute_error(y_train, y_train_pred)\n",
    "train_mape = (abs((y_train - y_train_pred) / y_train).mean()) * 100\n",
    "train_r2 = r2_score(y_train, y_train_pred)\n",
    "\n",
    "# Predict on test set\n",
    "y_test_pred = pipeline.predict(X_test)\n",
    "\n",
    "# Calculate metrics for test set\n",
    "rmse = root_mean_squared_error(y_test, y_test_pred)\n",
    "mae = mean_absolute_error(y_test, y_test_pred)\n",
    "mape = (abs((y_test - y_test_pred) / y_test).mean()) * 100\n",
    "r2 = r2_score(y_test, y_test_pred)\n",
    "\n",
    "print(\"Training set performance:\")\n",
    "print(f\"RMSE: {train_rmse:.4f}\")\n",
    "print(f\"MAE: {train_mae:.4f}\")\n",
    "print(f\"MAPE: {train_mape:.2f}%\")\n",
    "print(f\"R2: {train_r2:.4f}\")\n",
    "\n",
    "print(\"\\nTest set performance:\")\n",
    "print(f\"RMSE: {rmse:.4f}\")\n",
    "print(f\"MAE: {mae:.4f}\")\n",
    "print(f\"MAPE: {mape:.2f}%\")\n",
    "print(f\"R2: {r2:.4f}\")"
   ]
  }
 ],
 "metadata": {
  "kernelspec": {
   "display_name": ".venv",
   "language": "python",
   "name": "python3"
  },
  "language_info": {
   "codemirror_mode": {
    "name": "ipython",
    "version": 3
   },
   "file_extension": ".py",
   "mimetype": "text/x-python",
   "name": "python",
   "nbconvert_exporter": "python",
   "pygments_lexer": "ipython3",
   "version": "3.13.3"
  }
 },
 "nbformat": 4,
 "nbformat_minor": 5
}
