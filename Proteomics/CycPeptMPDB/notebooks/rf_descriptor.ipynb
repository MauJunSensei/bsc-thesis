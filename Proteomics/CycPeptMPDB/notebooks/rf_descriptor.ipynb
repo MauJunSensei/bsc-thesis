{
 "cells": [
  {
   "cell_type": "markdown",
   "id": "cabbcf29",
   "metadata": {},
   "source": [
    "### Classical Model Preprocessing\n"
   ]
  },
  {
   "cell_type": "code",
   "execution_count": 1,
   "id": "5aa31119",
   "metadata": {},
   "outputs": [],
   "source": [
    "import pandas as pd\n",
    "\n",
    "# Drop columns with any empty rows\n",
    "data = pd.read_csv('../data/CycPeptMPDB_Peptide_All.csv', low_memory=False)"
   ]
  },
  {
   "cell_type": "code",
   "execution_count": 2,
   "id": "375bcfc2",
   "metadata": {},
   "outputs": [
    {
     "name": "stdout",
     "output_type": "stream",
     "text": [
      "Initial number of rows: 8466\n",
      "# of Columns before dropping: 247\n",
      "Number of rows after dropping duplicate molecules: 7991\n"
     ]
    }
   ],
   "source": [
    "print(f\"Initial number of rows: {len(data)}\")\n",
    "print(f'# of Columns before dropping: {data.shape[1]}')\n",
    "data = data.drop_duplicates(subset='Structurally_Unique_ID')\n",
    "print(f\"Number of rows after dropping duplicate molecules: {len(data)}\")"
   ]
  },
  {
   "cell_type": "code",
   "execution_count": 3,
   "id": "abaf6ba5",
   "metadata": {},
   "outputs": [
    {
     "name": "stdout",
     "output_type": "stream",
     "text": [
      "Number of columns after dropping those with missing values: 226\n",
      "Columns remaining: ['ID', 'Source', 'Year', 'Version', 'Original_Name_in_Source_Literature', 'Structurally_Unique_ID', 'SMILES', 'HELM', 'HELM_URL', 'Sequence', 'Sequence_LogP', 'Sequence_TPSA', 'Monomer_Length', 'Monomer_Length_in_Main_Chain', 'Molecule_Shape', 'Permeability', 'MaxEStateIndex', 'MinEStateIndex', 'MaxAbsEStateIndex', 'MinAbsEStateIndex', 'qed', 'MolWt', 'HeavyAtomMolWt', 'ExactMolWt', 'NumValenceElectrons', 'NumRadicalElectrons', 'MaxPartialCharge', 'MinPartialCharge', 'MaxAbsPartialCharge', 'MinAbsPartialCharge', 'FpDensityMorgan1', 'FpDensityMorgan2', 'FpDensityMorgan3', 'BCUT2D_MWHI', 'BCUT2D_MWLOW', 'BCUT2D_CHGHI', 'BCUT2D_CHGLO', 'BCUT2D_LOGPHI', 'BCUT2D_LOGPLOW', 'BCUT2D_MRHI', 'BCUT2D_MRLOW', 'BalabanJ', 'BertzCT', 'Chi0', 'Chi0n', 'Chi0v', 'Chi1', 'Chi1n', 'Chi1v', 'Chi2n', 'Chi2v', 'Chi3n', 'Chi3v', 'Chi4n', 'Chi4v', 'HallKierAlpha', 'Ipc', 'Kappa1', 'Kappa2', 'Kappa3', 'LabuteASA', 'PEOE_VSA1', 'PEOE_VSA10', 'PEOE_VSA11', 'PEOE_VSA12', 'PEOE_VSA13', 'PEOE_VSA14', 'PEOE_VSA2', 'PEOE_VSA3', 'PEOE_VSA4', 'PEOE_VSA5', 'PEOE_VSA6', 'PEOE_VSA7', 'PEOE_VSA8', 'PEOE_VSA9', 'SMR_VSA1', 'SMR_VSA10', 'SMR_VSA2', 'SMR_VSA3', 'SMR_VSA4', 'SMR_VSA5', 'SMR_VSA6', 'SMR_VSA7', 'SMR_VSA8', 'SMR_VSA9', 'SlogP_VSA1', 'SlogP_VSA10', 'SlogP_VSA11', 'SlogP_VSA12', 'SlogP_VSA2', 'SlogP_VSA3', 'SlogP_VSA4', 'SlogP_VSA5', 'SlogP_VSA6', 'SlogP_VSA7', 'SlogP_VSA8', 'SlogP_VSA9', 'TPSA', 'EState_VSA1', 'EState_VSA10', 'EState_VSA11', 'EState_VSA2', 'EState_VSA3', 'EState_VSA4', 'EState_VSA5', 'EState_VSA6', 'EState_VSA7', 'EState_VSA8', 'EState_VSA9', 'VSA_EState1', 'VSA_EState10', 'VSA_EState2', 'VSA_EState3', 'VSA_EState4', 'VSA_EState5', 'VSA_EState6', 'VSA_EState7', 'VSA_EState8', 'VSA_EState9', 'FractionCSP3', 'HeavyAtomCount', 'NHOHCount', 'NOCount', 'NumAliphaticCarbocycles', 'NumAliphaticHeterocycles', 'NumAliphaticRings', 'NumAromaticCarbocycles', 'NumAromaticHeterocycles', 'NumAromaticRings', 'NumHAcceptors', 'NumHDonors', 'NumHeteroatoms', 'NumRotatableBonds', 'NumSaturatedCarbocycles', 'NumSaturatedHeterocycles', 'NumSaturatedRings', 'RingCount', 'MolLogP', 'MolMR', 'fr_Al_COO', 'fr_Al_OH', 'fr_Al_OH_noTert', 'fr_ArN', 'fr_Ar_COO', 'fr_Ar_N', 'fr_Ar_NH', 'fr_Ar_OH', 'fr_COO', 'fr_COO2', 'fr_C_O', 'fr_C_O_noCOO', 'fr_C_S', 'fr_HOCCN', 'fr_Imine', 'fr_NH0', 'fr_NH1', 'fr_NH2', 'fr_N_O', 'fr_Ndealkylation1', 'fr_Ndealkylation2', 'fr_Nhpyrrole', 'fr_SH', 'fr_aldehyde', 'fr_alkyl_carbamate', 'fr_alkyl_halide', 'fr_allylic_oxid', 'fr_amide', 'fr_amidine', 'fr_aniline', 'fr_aryl_methyl', 'fr_azide', 'fr_azo', 'fr_barbitur', 'fr_benzene', 'fr_benzodiazepine', 'fr_bicyclic', 'fr_diazo', 'fr_dihydropyridine', 'fr_epoxide', 'fr_ester', 'fr_ether', 'fr_furan', 'fr_guanido', 'fr_halogen', 'fr_hdrzine', 'fr_hdrzone', 'fr_imidazole', 'fr_imide', 'fr_isocyan', 'fr_isothiocyan', 'fr_ketone', 'fr_ketone_Topliss', 'fr_lactam', 'fr_lactone', 'fr_methoxy', 'fr_morpholine', 'fr_nitrile', 'fr_nitro', 'fr_nitro_arom', 'fr_nitro_arom_nonortho', 'fr_nitroso', 'fr_oxazole', 'fr_oxime', 'fr_para_hydroxylation', 'fr_phenol', 'fr_phenol_noOrthoHbond', 'fr_phos_acid', 'fr_phos_ester', 'fr_piperdine', 'fr_piperzine', 'fr_priamide', 'fr_prisulfonamd', 'fr_pyridine', 'fr_quatN', 'fr_sulfide', 'fr_sulfonamd', 'fr_sulfone', 'fr_term_acetylene', 'fr_tetrazole', 'fr_thiazole', 'fr_thiocyan', 'fr_thiophene', 'fr_unbrch_alkane', 'fr_urea', 'PC1', 'PC2']\n",
      "Number of rows after removing Permeability = -10: 7718\n"
     ]
    }
   ],
   "source": [
    "# Remove columns with any missing values\n",
    "data = data.dropna(axis=1)\n",
    "print(f\"Number of columns after dropping those with missing values: {data.shape[1]}\")\n",
    "print(f\"Columns remaining: {data.columns.tolist()}\")\n",
    "\n",
    "# Remove Permeabiltiy = -10\n",
    "data = data[data['Permeability'] != -10]\n",
    "print(f\"Number of rows after removing Permeability = -10: {len(data)}\")\n"
   ]
  },
  {
   "cell_type": "code",
   "execution_count": 4,
   "id": "4ed70f00",
   "metadata": {},
   "outputs": [
    {
     "name": "stdout",
     "output_type": "stream",
     "text": [
      "Final number of features: 213\n",
      "Remaining features: ['Monomer_Length', 'Monomer_Length_in_Main_Chain', 'Molecule_Shape', 'MaxEStateIndex', 'MinEStateIndex', 'MaxAbsEStateIndex', 'MinAbsEStateIndex', 'qed', 'MolWt', 'HeavyAtomMolWt', 'ExactMolWt', 'NumValenceElectrons', 'NumRadicalElectrons', 'MaxPartialCharge', 'MinPartialCharge', 'MaxAbsPartialCharge', 'MinAbsPartialCharge', 'FpDensityMorgan1', 'FpDensityMorgan2', 'FpDensityMorgan3', 'BCUT2D_MWHI', 'BCUT2D_MWLOW', 'BCUT2D_CHGHI', 'BCUT2D_CHGLO', 'BCUT2D_LOGPHI', 'BCUT2D_LOGPLOW', 'BCUT2D_MRHI', 'BCUT2D_MRLOW', 'BalabanJ', 'BertzCT', 'Chi0', 'Chi0n', 'Chi0v', 'Chi1', 'Chi1n', 'Chi1v', 'Chi2n', 'Chi2v', 'Chi3n', 'Chi3v', 'Chi4n', 'Chi4v', 'HallKierAlpha', 'Ipc', 'Kappa1', 'Kappa2', 'Kappa3', 'LabuteASA', 'PEOE_VSA1', 'PEOE_VSA10', 'PEOE_VSA11', 'PEOE_VSA12', 'PEOE_VSA13', 'PEOE_VSA14', 'PEOE_VSA2', 'PEOE_VSA3', 'PEOE_VSA4', 'PEOE_VSA5', 'PEOE_VSA6', 'PEOE_VSA7', 'PEOE_VSA8', 'PEOE_VSA9', 'SMR_VSA1', 'SMR_VSA10', 'SMR_VSA2', 'SMR_VSA3', 'SMR_VSA4', 'SMR_VSA5', 'SMR_VSA6', 'SMR_VSA7', 'SMR_VSA8', 'SMR_VSA9', 'SlogP_VSA1', 'SlogP_VSA10', 'SlogP_VSA11', 'SlogP_VSA12', 'SlogP_VSA2', 'SlogP_VSA3', 'SlogP_VSA4', 'SlogP_VSA5', 'SlogP_VSA6', 'SlogP_VSA7', 'SlogP_VSA8', 'SlogP_VSA9', 'TPSA', 'EState_VSA1', 'EState_VSA10', 'EState_VSA11', 'EState_VSA2', 'EState_VSA3', 'EState_VSA4', 'EState_VSA5', 'EState_VSA6', 'EState_VSA7', 'EState_VSA8', 'EState_VSA9', 'VSA_EState1', 'VSA_EState10', 'VSA_EState2', 'VSA_EState3', 'VSA_EState4', 'VSA_EState5', 'VSA_EState6', 'VSA_EState7', 'VSA_EState8', 'VSA_EState9', 'FractionCSP3', 'HeavyAtomCount', 'NHOHCount', 'NOCount', 'NumAliphaticCarbocycles', 'NumAliphaticHeterocycles', 'NumAliphaticRings', 'NumAromaticCarbocycles', 'NumAromaticHeterocycles', 'NumAromaticRings', 'NumHAcceptors', 'NumHDonors', 'NumHeteroatoms', 'NumRotatableBonds', 'NumSaturatedCarbocycles', 'NumSaturatedHeterocycles', 'NumSaturatedRings', 'RingCount', 'MolLogP', 'MolMR', 'fr_Al_COO', 'fr_Al_OH', 'fr_Al_OH_noTert', 'fr_ArN', 'fr_Ar_COO', 'fr_Ar_N', 'fr_Ar_NH', 'fr_Ar_OH', 'fr_COO', 'fr_COO2', 'fr_C_O', 'fr_C_O_noCOO', 'fr_C_S', 'fr_HOCCN', 'fr_Imine', 'fr_NH0', 'fr_NH1', 'fr_NH2', 'fr_N_O', 'fr_Ndealkylation1', 'fr_Ndealkylation2', 'fr_Nhpyrrole', 'fr_SH', 'fr_aldehyde', 'fr_alkyl_carbamate', 'fr_alkyl_halide', 'fr_allylic_oxid', 'fr_amide', 'fr_amidine', 'fr_aniline', 'fr_aryl_methyl', 'fr_azide', 'fr_azo', 'fr_barbitur', 'fr_benzene', 'fr_benzodiazepine', 'fr_bicyclic', 'fr_diazo', 'fr_dihydropyridine', 'fr_epoxide', 'fr_ester', 'fr_ether', 'fr_furan', 'fr_guanido', 'fr_halogen', 'fr_hdrzine', 'fr_hdrzone', 'fr_imidazole', 'fr_imide', 'fr_isocyan', 'fr_isothiocyan', 'fr_ketone', 'fr_ketone_Topliss', 'fr_lactam', 'fr_lactone', 'fr_methoxy', 'fr_morpholine', 'fr_nitrile', 'fr_nitro', 'fr_nitro_arom', 'fr_nitro_arom_nonortho', 'fr_nitroso', 'fr_oxazole', 'fr_oxime', 'fr_para_hydroxylation', 'fr_phenol', 'fr_phenol_noOrthoHbond', 'fr_phos_acid', 'fr_phos_ester', 'fr_piperdine', 'fr_piperzine', 'fr_priamide', 'fr_prisulfonamd', 'fr_pyridine', 'fr_quatN', 'fr_sulfide', 'fr_sulfonamd', 'fr_sulfone', 'fr_term_acetylene', 'fr_tetrazole', 'fr_thiazole', 'fr_thiocyan', 'fr_thiophene', 'fr_unbrch_alkane', 'fr_urea', 'PC1', 'PC2']\n"
     ]
    }
   ],
   "source": [
    "import numpy as np\n",
    "import ast\n",
    "\n",
    "# Target and features\n",
    "target = data['Permeability']\n",
    "features = data.drop(columns=['Permeability'])\n",
    "\n",
    "# Drop unnecessary columns\n",
    "# Identifiers and metadata\n",
    "features = features.drop(columns=['ID', 'Source', 'Year', 'Version', 'Original_Name_in_Source_Literature', 'Structurally_Unique_ID'])\n",
    "\n",
    "# Various peptide representation formats\n",
    "features = features.drop(columns=['SMILES', 'HELM', 'HELM_URL', 'Sequence'])\n",
    "\n",
    "# TPSA and Sequence_LogP_Avg already exist in the dataset\n",
    "features = features.drop(columns=['Sequence_TPSA', 'Sequence_LogP'])\n",
    "\n",
    "print(f\"Final number of features: {features.shape[1]}\")\n",
    "print(f'Remaining features: {features.columns.tolist()}')"
   ]
  },
  {
   "cell_type": "code",
   "execution_count": 5,
   "id": "21e8b3ee",
   "metadata": {},
   "outputs": [
    {
     "name": "stdout",
     "output_type": "stream",
     "text": [
      "'Molecule_Shape' column found with 2 unique values.\n",
      "Number of features after one-hot encoding: 214\n",
      "Remaining features after encoding: ['Monomer_Length', 'Monomer_Length_in_Main_Chain', 'MaxEStateIndex', 'MinEStateIndex', 'MaxAbsEStateIndex', 'MinAbsEStateIndex', 'qed', 'MolWt', 'HeavyAtomMolWt', 'ExactMolWt', 'NumValenceElectrons', 'NumRadicalElectrons', 'MaxPartialCharge', 'MinPartialCharge', 'MaxAbsPartialCharge', 'MinAbsPartialCharge', 'FpDensityMorgan1', 'FpDensityMorgan2', 'FpDensityMorgan3', 'BCUT2D_MWHI', 'BCUT2D_MWLOW', 'BCUT2D_CHGHI', 'BCUT2D_CHGLO', 'BCUT2D_LOGPHI', 'BCUT2D_LOGPLOW', 'BCUT2D_MRHI', 'BCUT2D_MRLOW', 'BalabanJ', 'BertzCT', 'Chi0', 'Chi0n', 'Chi0v', 'Chi1', 'Chi1n', 'Chi1v', 'Chi2n', 'Chi2v', 'Chi3n', 'Chi3v', 'Chi4n', 'Chi4v', 'HallKierAlpha', 'Ipc', 'Kappa1', 'Kappa2', 'Kappa3', 'LabuteASA', 'PEOE_VSA1', 'PEOE_VSA10', 'PEOE_VSA11', 'PEOE_VSA12', 'PEOE_VSA13', 'PEOE_VSA14', 'PEOE_VSA2', 'PEOE_VSA3', 'PEOE_VSA4', 'PEOE_VSA5', 'PEOE_VSA6', 'PEOE_VSA7', 'PEOE_VSA8', 'PEOE_VSA9', 'SMR_VSA1', 'SMR_VSA10', 'SMR_VSA2', 'SMR_VSA3', 'SMR_VSA4', 'SMR_VSA5', 'SMR_VSA6', 'SMR_VSA7', 'SMR_VSA8', 'SMR_VSA9', 'SlogP_VSA1', 'SlogP_VSA10', 'SlogP_VSA11', 'SlogP_VSA12', 'SlogP_VSA2', 'SlogP_VSA3', 'SlogP_VSA4', 'SlogP_VSA5', 'SlogP_VSA6', 'SlogP_VSA7', 'SlogP_VSA8', 'SlogP_VSA9', 'TPSA', 'EState_VSA1', 'EState_VSA10', 'EState_VSA11', 'EState_VSA2', 'EState_VSA3', 'EState_VSA4', 'EState_VSA5', 'EState_VSA6', 'EState_VSA7', 'EState_VSA8', 'EState_VSA9', 'VSA_EState1', 'VSA_EState10', 'VSA_EState2', 'VSA_EState3', 'VSA_EState4', 'VSA_EState5', 'VSA_EState6', 'VSA_EState7', 'VSA_EState8', 'VSA_EState9', 'FractionCSP3', 'HeavyAtomCount', 'NHOHCount', 'NOCount', 'NumAliphaticCarbocycles', 'NumAliphaticHeterocycles', 'NumAliphaticRings', 'NumAromaticCarbocycles', 'NumAromaticHeterocycles', 'NumAromaticRings', 'NumHAcceptors', 'NumHDonors', 'NumHeteroatoms', 'NumRotatableBonds', 'NumSaturatedCarbocycles', 'NumSaturatedHeterocycles', 'NumSaturatedRings', 'RingCount', 'MolLogP', 'MolMR', 'fr_Al_COO', 'fr_Al_OH', 'fr_Al_OH_noTert', 'fr_ArN', 'fr_Ar_COO', 'fr_Ar_N', 'fr_Ar_NH', 'fr_Ar_OH', 'fr_COO', 'fr_COO2', 'fr_C_O', 'fr_C_O_noCOO', 'fr_C_S', 'fr_HOCCN', 'fr_Imine', 'fr_NH0', 'fr_NH1', 'fr_NH2', 'fr_N_O', 'fr_Ndealkylation1', 'fr_Ndealkylation2', 'fr_Nhpyrrole', 'fr_SH', 'fr_aldehyde', 'fr_alkyl_carbamate', 'fr_alkyl_halide', 'fr_allylic_oxid', 'fr_amide', 'fr_amidine', 'fr_aniline', 'fr_aryl_methyl', 'fr_azide', 'fr_azo', 'fr_barbitur', 'fr_benzene', 'fr_benzodiazepine', 'fr_bicyclic', 'fr_diazo', 'fr_dihydropyridine', 'fr_epoxide', 'fr_ester', 'fr_ether', 'fr_furan', 'fr_guanido', 'fr_halogen', 'fr_hdrzine', 'fr_hdrzone', 'fr_imidazole', 'fr_imide', 'fr_isocyan', 'fr_isothiocyan', 'fr_ketone', 'fr_ketone_Topliss', 'fr_lactam', 'fr_lactone', 'fr_methoxy', 'fr_morpholine', 'fr_nitrile', 'fr_nitro', 'fr_nitro_arom', 'fr_nitro_arom_nonortho', 'fr_nitroso', 'fr_oxazole', 'fr_oxime', 'fr_para_hydroxylation', 'fr_phenol', 'fr_phenol_noOrthoHbond', 'fr_phos_acid', 'fr_phos_ester', 'fr_piperdine', 'fr_piperzine', 'fr_priamide', 'fr_prisulfonamd', 'fr_pyridine', 'fr_quatN', 'fr_sulfide', 'fr_sulfonamd', 'fr_sulfone', 'fr_term_acetylene', 'fr_tetrazole', 'fr_thiazole', 'fr_thiocyan', 'fr_thiophene', 'fr_unbrch_alkane', 'fr_urea', 'PC1', 'PC2', 'Molecule_Shape_Circle', 'Molecule_Shape_Lariat']\n"
     ]
    }
   ],
   "source": [
    "# One hot encoding for 'Molecule_Shape'\n",
    "if 'Molecule_Shape' in features.columns:\n",
    "    print(f\"'Molecule_Shape' column found with {features['Molecule_Shape'].nunique()} unique values.\")\n",
    "    features = pd.get_dummies(features, columns=['Molecule_Shape'])\n",
    "print(f\"Number of features after one-hot encoding: {features.shape[1]}\")\n",
    "print(f\"Remaining features after encoding: {features.columns.tolist()}\")"
   ]
  },
  {
   "cell_type": "code",
   "execution_count": 6,
   "id": "3cc4414c",
   "metadata": {},
   "outputs": [
    {
     "name": "stdout",
     "output_type": "stream",
     "text": [
      "PEOE_VSA PCA: 2 comps, 90.6% var\n",
      "SMR_VSA PCA: 2 comps, 95.4% var\n",
      "SlogP_VSA PCA: 2 comps, 95.5% var\n",
      "EState_VSA PCA: 1 comps, 98.2% var\n",
      "VSA_EState PCA: 1 comps, 98.5% var\n",
      "BCUT2D PCA: 1 comps, 99.9% var\n",
      "ChiALL PCA: 1 comps, 99.8% var\n",
      "Total features in final_features: 55\n",
      "['MolWt', 'ExactMolWt', 'HeavyAtomCount', 'MolLogP', 'TPSA', 'NumHDonors', 'NumHAcceptors', 'NumRotatableBonds', 'RingCount', 'NumAromaticRings', 'NumAliphaticRings', 'FractionCSP3', 'qed', 'HeavyAtomMolWt', 'NumHeteroatoms', 'Molecule_Shape_Circle', 'Molecule_Shape_Lariat', 'PC1', 'PC2', 'PEOE_VSA_PCA1', 'PEOE_VSA_PCA2', 'SMR_VSA_PCA1', 'SMR_VSA_PCA2', 'SlogP_VSA_PCA1', 'SlogP_VSA_PCA2', 'EState_VSA_PCA1', 'VSA_EState_PCA1', 'BCUT2D_PCA1', 'ChiALL_PCA1', 'fr_Ndealkylation1', 'fr_Al_OH', 'fr_piperdine', 'fr_priamide', 'fr_halogen', 'fr_bicyclic', 'fr_NH1', 'fr_NH0', 'fr_ether', 'fr_NH2', 'fr_amide', 'fr_C_O_noCOO', 'fr_C_O', 'fr_Ar_N', 'fr_phenol', 'fr_Ar_OH', 'fr_phenol_noOrthoHbond', 'fr_sulfide', 'fr_para_hydroxylation', 'fr_methoxy', 'fr_Ndealkylation2', 'fr_benzene', 'fr_sulfonamd', 'fr_HOCCN', 'fr_allylic_oxid', 'fr_other']\n"
     ]
    }
   ],
   "source": [
    "from sklearn.decomposition import PCA\n",
    "import numpy as np\n",
    "import pandas as pd\n",
    "from sklearn.preprocessing import StandardScaler\n",
    "\n",
    "# Assume 'features' is your input DataFrame containing all original descriptors\n",
    "\n",
    "# Select the desired handpicked features for the final dataset\n",
    "final_feature_names = [\n",
    "    # Molecular size & weight\n",
    "    'MolWt', 'ExactMolWt', 'HeavyAtomCount',\n",
    "    # Lipophilicity\n",
    "    'MolLogP',\n",
    "    # Polarity / hydrogen-bonding\n",
    "    'TPSA', 'NumHDonors', 'NumHAcceptors',\n",
    "    # Flexibility / shape\n",
    "    'NumRotatableBonds', 'RingCount', 'NumAromaticRings', 'NumAliphaticRings', 'FractionCSP3',\n",
    "    # Overall drug-likeness / complexity\n",
    "    'qed', 'HeavyAtomMolWt', 'NumHeteroatoms',\n",
    "    # Molecule shape\n",
    "    'Molecule_Shape_Circle', 'Molecule_Shape_Lariat',\n",
    "    # PC1 and PC2\n",
    "    'PC1', 'PC2'\n",
    "]\n",
    "\n",
    "# Utility to add PCA features\n",
    "def add_pca_features(df, prefix, cols, max_components, variance_threshold=0.90, random_state=42):\n",
    "    if not cols:\n",
    "        return []\n",
    "    data = df[cols].fillna(0)\n",
    "    pca_full = PCA(n_components=min(max_components, len(cols)), random_state=random_state)\n",
    "    pca_full.fit(data)\n",
    "    cumvar = np.cumsum(pca_full.explained_variance_ratio_)\n",
    "    n_comp = int(np.argmax(cumvar >= variance_threshold) + 1)\n",
    "    pca = PCA(n_components=n_comp, random_state=random_state)\n",
    "    comps = pca.fit_transform(data)\n",
    "    new_cols = []\n",
    "    for i in range(n_comp):\n",
    "        col_name = f\"{prefix}_PCA{i+1}\"\n",
    "        df[col_name] = comps[:, i]\n",
    "        new_cols.append(col_name)\n",
    "    print(f\"{prefix} PCA: {n_comp} comps, {cumvar[n_comp-1]*100:.1f}% var\")\n",
    "    return new_cols\n",
    "\n",
    "# Perform PCA for descriptor families and collect the new column names\n",
    "new_cols = []  # Initialize list to collect PCA and aggregated feature names\n",
    "\n",
    "# PEOE_VSA PCA\n",
    "peoe_cols = [f'PEOE_VSA{i}' for i in range(1, 15) if f'PEOE_VSA{i}' in features.columns]\n",
    "new_cols += add_pca_features(features, 'PEOE_VSA', peoe_cols, max_components=3)\n",
    "\n",
    "# SMR_VSA PCA\n",
    "smr_cols = [f'SMR_VSA{i}' for i in range(1, 10) if f'SMR_VSA{i}' in features.columns]\n",
    "new_cols += add_pca_features(features, 'SMR_VSA', smr_cols, max_components=2)\n",
    "\n",
    "# SlogP_VSA PCA\n",
    "slogp_cols = [f'SlogP_VSA{i}' for i in range(1, 13) if f'SlogP_VSA{i}' in features.columns]\n",
    "new_cols += add_pca_features(features, 'SlogP_VSA', slogp_cols, max_components=3)\n",
    "\n",
    "# EState_VSA PCA\n",
    "estate_vsa_cols = [f'EState_VSA{i}' for i in range(1, 12) if f'EState_VSA{i}' in features.columns]\n",
    "new_cols += add_pca_features(features, 'EState_VSA', estate_vsa_cols, max_components=3)\n",
    "\n",
    "# VSA_EState PCA\n",
    "vsa_estate_cols = [f'VSA_EState{i}' for i in range(1, 11) if f'VSA_EState{i}' in features.columns]\n",
    "new_cols += add_pca_features(features, 'VSA_EState', vsa_estate_cols, max_components=3)\n",
    "\n",
    "# BCUT2D PCA\n",
    "bcut2d_cols = [col for col in features.columns if col.startswith('BCUT2D_')]\n",
    "new_cols += add_pca_features(features, 'BCUT2D', bcut2d_cols, max_components=2)\n",
    "\n",
    "# Combine all Chi features (base, n, v) into a single PCA\n",
    "chi_all_cols = [col for col in features.columns if col.startswith('Chi')]\n",
    "if chi_all_cols:\n",
    "    # Optionally fill NaN with 0 or column mean if needed\n",
    "    n_components = min(3, len(chi_all_cols))\n",
    "    new_cols += add_pca_features(features, 'ChiALL', chi_all_cols, max_components=n_components)\n",
    "\n",
    "# Only keep the top 25 most important functional group columns based on feature importance\n",
    "# Aggregate the rest into a single column\n",
    "\n",
    "# List of all functional group columns in features\n",
    "fr_cols = [col for col in features.columns if col.startswith('fr_')]\n",
    "\n",
    "# Provided importance list for functional groups (ordered by importance)\n",
    "top_25_fr = [\n",
    "    'fr_Ndealkylation1', 'fr_Al_OH', 'fr_piperdine', 'fr_priamide', 'fr_halogen',\n",
    "    'fr_bicyclic', 'fr_NH1', 'fr_NH0', 'fr_ether', 'fr_NH2',\n",
    "    'fr_amide', 'fr_C_O_noCOO', 'fr_C_O', 'fr_Ar_N', 'fr_phenol',\n",
    "    'fr_Ar_OH', 'fr_phenol_noOrthoHbond', 'fr_sulfide', 'fr_para_hydroxylation', 'fr_methoxy',\n",
    "    'fr_Ndealkylation2', 'fr_benzene', 'fr_sulfonamd', 'fr_HOCCN', 'fr_allylic_oxid'\n",
    "]\n",
    "\n",
    "# Only keep those that exist in the current features\n",
    "top_25_fr = [col for col in top_25_fr if col in fr_cols]\n",
    "\n",
    "# Add top 25 to new_cols\n",
    "new_cols += top_25_fr\n",
    "\n",
    "# Aggregate the rest into a single column\n",
    "other_fr = [col for col in fr_cols if col not in top_25_fr]\n",
    "if other_fr:\n",
    "    features['fr_other'] = features[other_fr].sum(axis=1)\n",
    "    new_cols.append('fr_other')\n",
    "\n",
    "# Combine all features\n",
    "final_features = final_feature_names + new_cols\n",
    "\n",
    "print(f\"Total features in final_features: {len(final_features)}\")\n",
    "print(final_features)"
   ]
  },
  {
   "cell_type": "code",
   "execution_count": 7,
   "id": "4c87d0b8",
   "metadata": {},
   "outputs": [],
   "source": [
    "# from feature_engine.selection import SmartCorrelatedSelection\n",
    "\n",
    "# # Drop highly correlated features (e.g., threshold=0.9)\n",
    "# corr_dropper = SmartCorrelatedSelection(threshold=0.9, variables=None)\n",
    "# features_uncorr = corr_dropper.fit_transform(features[final_features])\n",
    "\n",
    "# print(f\"Number of features after dropping correlated: {features_uncorr.shape[1]}\")\n",
    "# print(f\"Remaining features: {features_uncorr.columns.tolist()}\")"
   ]
  },
  {
   "cell_type": "markdown",
   "id": "07ec2d44",
   "metadata": {},
   "source": [
    "# Training the Model"
   ]
  },
  {
   "cell_type": "code",
   "execution_count": 8,
   "id": "d74b3a87",
   "metadata": {},
   "outputs": [],
   "source": [
    "from sklearn.model_selection import train_test_split\n",
    "from sklearn.preprocessing import StandardScaler\n",
    "from sklearn.feature_selection import SelectFromModel\n",
    "\n",
    "# Define pipeline\n",
    "from sklearn.pipeline import Pipeline\n",
    "from sklearn.ensemble import RandomForestRegressor\n",
    "from sklearn.impute import SimpleImputer\n",
    "from sklearn.decomposition import PCA\n",
    "\n",
    "pipeline = Pipeline([\n",
    "\t('scaler', StandardScaler()),\n",
    "\t('regressor', RandomForestRegressor(n_jobs=-1))\n",
    "])\n",
    "\n",
    "# Split data\n",
    "X_train, X_test, y_train, y_test = train_test_split(features[final_features], target, test_size=0.2, random_state=42)\n",
    "\n",
    "# Fit pipeline\n",
    "pipeline.fit(X_train, y_train)\n",
    "\n",
    "# Predict\n",
    "# Ensemble averaging: train several RFs on different seeds and average predictions\n",
    "n_ensemble = 10\n",
    "ensemble_preds = []\n",
    "\n",
    "for seed in range(n_ensemble):\n",
    "\t# New pipeline with different random_state\n",
    "\tensemble_pipeline = Pipeline([\n",
    "\t\t('scaler', StandardScaler()),\n",
    "\t\t('regressor', RandomForestRegressor(random_state=seed, n_jobs=-1))\n",
    "\t])\n",
    "\t# Fit on the same training split\n",
    "\tensemble_pipeline.fit(X_train, y_train)\n",
    "\t# Predict on test set\n",
    "\tpreds = ensemble_pipeline.predict(X_test)\n",
    "\tensemble_preds.append(preds)\n",
    "\n",
    "# Average predictions\n",
    "y_pred = np.mean(ensemble_preds, axis=0)\n"
   ]
  },
  {
   "cell_type": "code",
   "execution_count": 9,
   "id": "ee870ce4",
   "metadata": {},
   "outputs": [
    {
     "name": "stdout",
     "output_type": "stream",
     "text": [
      "Training set performance:\n",
      "RMSE: 0.3434\n",
      "MAE: 0.2438\n",
      "MAPE: 4.16%\n",
      "R2: 0.8077\n",
      "\n",
      "Test set performance:\n",
      "RMSE: 0.4941\n",
      "MAE: 0.3583\n",
      "MAPE: 6.15%\n",
      "R2: 0.6167\n"
     ]
    }
   ],
   "source": [
    "from sklearn.metrics import root_mean_squared_error, mean_absolute_error, r2_score\n",
    "\n",
    "# Predict on training set\n",
    "y_train_pred = pipeline.predict(X_train)\n",
    "\n",
    "# Calculate metrics for training set\n",
    "train_rmse = root_mean_squared_error(y_train, y_train_pred)\n",
    "train_mae = mean_absolute_error(y_train, y_train_pred)\n",
    "train_mape = (abs((y_train - y_train_pred) / y_train).mean()) * 100\n",
    "train_r2 = r2_score(y_train, y_train_pred)\n",
    "\n",
    "# Predict on test set\n",
    "y_test_pred = pipeline.predict(X_test)\n",
    "\n",
    "# Calculate metrics for test set\n",
    "rmse = root_mean_squared_error(y_test, y_test_pred)\n",
    "mae = mean_absolute_error(y_test, y_test_pred)\n",
    "mape = (abs((y_test - y_test_pred) / y_test).mean()) * 100\n",
    "r2 = r2_score(y_test, y_test_pred)\n",
    "\n",
    "print(\"Training set performance:\")\n",
    "print(f\"RMSE: {train_rmse:.4f}\")\n",
    "print(f\"MAE: {train_mae:.4f}\")\n",
    "print(f\"MAPE: {train_mape:.2f}%\")\n",
    "print(f\"R2: {train_r2:.4f}\")\n",
    "\n",
    "print(\"\\nTest set performance:\")\n",
    "print(f\"RMSE: {rmse:.4f}\")\n",
    "print(f\"MAE: {mae:.4f}\")\n",
    "print(f\"MAPE: {mape:.2f}%\")\n",
    "print(f\"R2: {r2:.4f}\")"
   ]
  }
 ],
 "metadata": {
  "kernelspec": {
   "display_name": "Python 3",
   "language": "python",
   "name": "python3"
  },
  "language_info": {
   "codemirror_mode": {
    "name": "ipython",
    "version": 3
   },
   "file_extension": ".py",
   "mimetype": "text/x-python",
   "name": "python",
   "nbconvert_exporter": "python",
   "pygments_lexer": "ipython3",
   "version": "3.11.11"
  }
 },
 "nbformat": 4,
 "nbformat_minor": 5
}
